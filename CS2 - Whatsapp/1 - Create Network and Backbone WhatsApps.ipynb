{
 "cells": [
  {
   "cell_type": "markdown",
   "id": "5a645f22-17d1-49c2-a492-25be38247b08",
   "metadata": {},
   "source": [
    "# Create the networks - Whatsapp Use Case\n",
    "\n",
    "This notebook can be used to guide the extraction of the backbones from our raw data. As some methods rely on proprietary tools, we have included also the outcome of this notebook (i.e., the obtained backbones) in the public repository"
   ]
  },
  {
   "cell_type": "code",
   "execution_count": 1,
   "id": "occupational-cartoon",
   "metadata": {},
   "outputs": [],
   "source": [
    "%load_ext autoreload\n",
    "%autoreload 2\n",
    "from dateutil import rrule\n",
    "from datetime import date, datetime, timedelta\n",
    "import pandas as pd\n",
    "import pickle as pkl\n",
    "import random\n",
    "import matplotlib.pyplot as plt\n",
    "import fastplot\n",
    "import seaborn as sns\n",
    "import scipy\n",
    "import numpy as np\n",
    "import itertools\n",
    "import networkx as nx\n",
    "from multiprocessing import Pool\n",
    "from tqdm import tqdm\n",
    "from tqdm.notebook import trange, tqdm"
   ]
  },
  {
   "cell_type": "markdown",
   "id": "4985a826-f5e9-4d96-b5f5-f58aa6556a3e",
   "metadata": {},
   "source": [
    "## Download and uncompress the dataset"
   ]
  },
  {
   "cell_type": "code",
   "execution_count": null,
   "id": "c58bba60-b146-4812-a06c-fe5f78125e99",
   "metadata": {},
   "outputs": [],
   "source": [
    "!mkdir -p WhatsApp && curl \"https://mplanestore.polito.it/backbone_extraction/WhatsApp.tar.gz\" --output - | tar -zxvf - "
   ]
  },
  {
   "cell_type": "markdown",
   "id": "b5359351-c93e-4105-97de-0945fcdd52ee",
   "metadata": {},
   "source": [
    "## Create the networks using multiple backbone extraction algos"
   ]
  },
  {
   "cell_type": "markdown",
   "id": "beginning-recording",
   "metadata": {},
   "source": [
    "### Disparity Filter"
   ]
  },
  {
   "cell_type": "code",
   "execution_count": null,
   "id": "statewide-finish",
   "metadata": {},
   "outputs": [],
   "source": [
    "PATH_Networks = 'WhatsApp/networks/'\n",
    "PATH_Backbones = 'WhatsApp/backbones/df/' \n",
    "list_snapshots = ['October']\n",
    "\n",
    "# Please use and cite the code available for Michele Coscia in:\n",
    "# Coscia, Michele, and Frank MH Neffke. \"Network backboning with noisy data.\" \n",
    "# 2017 IEEE 33rd International Conference on Data Engineering (ICDE). IEEE, 2017.\n",
    "# Download link: https://www.michelecoscia.com/?page_id=287\n",
    "\n",
    "for snap in list_snapshots:\n",
    "    nc_table = pd.read_csv(PATH_Networks+str(snap)+'.edgelist', delimiter=' ', names =['src', 'trg', 'nij', 'src_n', 'trg_n'])\n",
    "    nc_table = utils.disparity_filter(nc_table)\n",
    "    nc_table.to_csv(PATH_Backbones+str(snap)+'.edgelist', index=False, header=False)"
   ]
  },
  {
   "cell_type": "markdown",
   "id": "composite-jungle",
   "metadata": {},
   "source": [
    "### Polya Urn"
   ]
  },
  {
   "cell_type": "code",
   "execution_count": null,
   "id": "judicial-omega",
   "metadata": {},
   "outputs": [],
   "source": [
    "## Needs to be run on Matlab - See script in folder Polya\n",
    "### Here we just filter the edges according to a p-value"
   ]
  },
  {
   "cell_type": "code",
   "execution_count": null,
   "id": "supported-lodging",
   "metadata": {},
   "outputs": [],
   "source": [
    "import pandas as pd\n",
    "from os import getcwd\n",
    "PATH_Networks = 'WhatsApp/networks/'\n",
    "PATH_Backbones = 'WhatsApp/backbones/polya/'\n",
    "\n",
    "\n",
    "# Please use and cite the code available for Michele Coscia in:\n",
    "#Marcaccioli, Riccardo, and Giacomo Livan.\n",
    "#\"A pólya urn approach to information filtering in complex networks.\"\n",
    "#Nature communications 10.1 (2019): 1-10.\n",
    "# Download link: https://www.mathworks.com/matlabcentral/fileexchange/69501-pf\n",
    "\n",
    "\n",
    "list_snapshots = ['October']\n",
    "for snap in list_snapshots:\n",
    "    df = pd.read_csv(PATH_Backbones+str(snap)+\".edgelist\", sep=' ', names=['src', 'trg' ,'w' ,'p'])\n",
    "    test = df[df['p'] < 0.05]\n",
    "    print(len(df), len(test))"
   ]
  },
  {
   "cell_type": "markdown",
   "id": "double-seller",
   "metadata": {},
   "source": [
    "### Naive Threshold"
   ]
  },
  {
   "cell_type": "code",
   "execution_count": null,
   "id": "official-happening",
   "metadata": {},
   "outputs": [],
   "source": [
    "import pandas as pd\n",
    "from os import getcwd\n",
    "PATH_Networks = 'WhatsApp/networks/'\n",
    "PATH_Backbones = 'WhatsApp/backbones/threshold/'\n",
    "list_snapshots = ['October']\n",
    "threshold = 95\n",
    "for snap in list_snapshots:\n",
    "    df = pd.read_csv(PATH_Networks+str(snap)+\".edgelist\", sep=' ', names=['src', 'trg' ,'w'])\n",
    "    value = np.percentile(df['w'], threshold)\n",
    "    df[df['w'] > value]"
   ]
  },
  {
   "cell_type": "markdown",
   "id": "outdoor-finder",
   "metadata": {},
   "source": [
    "### HSS"
   ]
  },
  {
   "cell_type": "code",
   "execution_count": 7,
   "id": "pursuant-activation",
   "metadata": {},
   "outputs": [
    {
     "name": "stderr",
     "output_type": "stream",
     "text": [
      "Calculating HSS score...\n"
     ]
    }
   ],
   "source": [
    "PATH_Networks = 'WhatsApp/networks/'\n",
    "PATH_Backbones = 'WhatsApp/backbones/hss/' \n",
    "list_snapshots = ['October']\n",
    "\n",
    "# Please use and cite the code available for Michele Coscia in:\n",
    "# Coscia, Michele, and Frank MH Neffke. \"Network backboning with noisy data.\" \n",
    "# 2017 IEEE 33rd International Conference on Data Engineering (ICDE). IEEE, 2017.\n",
    "# Download link: https://www.michelecoscia.com/?page_id=287\n",
    "\n",
    "for snap in list_snapshots:\n",
    "    table = pd.read_csv(PATH_Networks+str(snap)+'.edgelist', delimiter=' ', names =['src', 'trg', 'nij', 'src_n', 'trg_n'])\n",
    "    table = utils.high_salience_skeleton(table)\n",
    "    table.to_csv(PATH_Backbones+str(snap)+'.edgelist', index=False, header=False)"
   ]
  },
  {
   "cell_type": "code",
   "execution_count": 9,
   "id": "vocational-spotlight",
   "metadata": {},
   "outputs": [],
   "source": [
    "import pandas as pd\n",
    "PATH_Networks = 'WhatsApp/networks/'\n",
    "PATH_Backbones = 'WhatsApp/backbones/hss/' \n",
    "snap = 'October'\n",
    "table = pd.read_csv(PATH_Backbones+str(snap)+'.edgelist',names =['src', 'trg', 'nij', 'score'])"
   ]
  },
  {
   "cell_type": "code",
   "execution_count": 15,
   "id": "trained-communications",
   "metadata": {},
   "outputs": [
    {
     "data": {
      "image/png": "[encoded data removed]",
      "text/plain": [
       "<Figure size 504x504 with 1 Axes>"
      ]
     },
     "metadata": {
      "needs_background": "light"
     },
     "output_type": "display_data"
    }
   ],
   "source": [
    "%matplotlib inline\n",
    "import matplotlib.pyplot as plt\n",
    "import seaborn as sns\n",
    "table['HSS Score'] = table['score'].round(2)\n",
    "f, ax = plt.subplots(figsize=(7, 7))\n",
    "sns.histplot(data=table, x=\"HSS Score\")\n",
    "#ax.set(yscale=\"log\")\n",
    "plt.savefig('WhatsApp/backbones/hss/dist_hss_scores.pdf')"
   ]
  },
  {
   "cell_type": "code",
   "execution_count": 16,
   "id": "prostate-optimum",
   "metadata": {},
   "outputs": [
    {
     "data": {
      "image/png": "[encoded data removed]",
      "text/plain": [
       "<Figure size 432x288 with 1 Axes>"
      ]
     },
     "metadata": {
      "needs_background": "light"
     },
     "output_type": "display_data"
    }
   ],
   "source": [
    "table['Weight'] = table['nij']\n",
    "sns.scatterplot(data=table, x=\"Weight\", y=\"score\")\n",
    "plt.savefig('WhatsApp/backbones/hss/scatter_hss_scores.pdf')"
   ]
  },
  {
   "cell_type": "code",
   "execution_count": 17,
   "id": "offshore-bible",
   "metadata": {},
   "outputs": [
    {
     "data": {
      "text/plain": [
       "<Figure size 640x480 with 0 Axes>"
      ]
     },
     "metadata": {},
     "output_type": "display_data"
    },
    {
     "data": {
      "image/png": "[encoded data removed]",
      "text/plain": [
       "<Figure size 400x225 with 1 Axes>"
      ]
     },
     "metadata": {},
     "output_type": "display_data"
    }
   ],
   "source": [
    "import fastplot\n",
    "plot = fastplot.plot(table['HSS Score'], None, mode='CDF',\n",
    "              xlabel = 'Score', style='latex')\n",
    "plot.savefig('WhatsApp/backbones/hss/cdf_hss_score.pdf')\n",
    "plot.show()"
   ]
  },
  {
   "cell_type": "markdown",
   "id": "aggregate-drove",
   "metadata": {},
   "source": [
    "### RECAST"
   ]
  },
  {
   "cell_type": "code",
   "execution_count": 1,
   "id": "current-forth",
   "metadata": {},
   "outputs": [],
   "source": [
    "#Just generate the trace to be runned in JAVA\n",
    "#See the oficial website to see how to run it\n",
    "\n",
    "# Please use and cite the code available for Michele Coscia in:\n",
    "# De Melo, Pedro OS Vaz, et al. \n",
    "# \"Recast: Telling apart social and random relationships in dynamic networks.\" \n",
    "# Performance Evaluation 87 (2015): 19-36.\n",
    "# Download Link: https://github.com/lab-csx-ufmg/RECAST/tree/master/RECAST"
   ]
  },
  {
   "cell_type": "code",
   "execution_count": null,
   "id": "completed-passing",
   "metadata": {},
   "outputs": [],
   "source": [
    "def get_stats(df):\n",
    "    global set_edges_to_remove\n",
    "    global dict_media2_timestamp\n",
    "    df = df.sort_values(by = \"Timestamp\")\n",
    "    df = df.reset_index(drop=True)\n",
    "    out_data = list()\n",
    "    for t_i in df.itertuples():\n",
    "        for t_j in df.itertuples(): \n",
    "            if t_i[0] < t_j[0]:\n",
    "                if ((t_i[4], t_j[4]) not in set_edges_to_remove) and ((t_j[4], t_i[4]) not in set_edges_to_remove):\n",
    "                    if t_i[4] != t_j[4] and t_i[5] ==  t_j[5]: \n",
    "                        if t_i[4] < t_j[4]:\n",
    "                            entry = {\"u\": t_i[4], \"v\": t_j[4], \"time_start\": int(dict_media2_timestamp[str(t_i[5])].timestamp()), \n",
    "                                     \"time_end\": int(dict_media2_timestamp[str(t_i[5])].timestamp()+1)}\n",
    "                        else:\n",
    "                            entry = {\"u\": t_j[4], \"v\": t_i[4], \"time_start\": int(dict_media2_timestamp[str(t_i[5])].timestamp()), \n",
    "                                     \"time_end\": int(dict_media2_timestamp[str(t_i[5])].timestamp()+1)}\n",
    "                                \n",
    "                        out_data.append(entry)\n",
    "    return pd.DataFrame(out_data)\n",
    "\n",
    "def generate_trace(df):\n",
    "    trace = df.groupby(\"Media_ID\").apply(get_stats).reset_index(drop=True)\n",
    "    trace['u'] = trace['u'].astype(int)\n",
    "    trace['v'] = trace['v'].astype(int)\n",
    "    trace['time_start'] = trace['time_start'].astype(int)\n",
    "    trace['time_end'] = trace['time_end'].astype(int)\n",
    "    return trace\n",
    "\n",
    "\n",
    "PATH_RESULT = 'RECAST/RECAST/traces/whatsapp/'\n",
    "df = pd.read_csv('WhatsApp/data/whatsapp_messages.csv', sep=',', names=['Timestamp', 'Week_Id', \n",
    "                                                                     'Group_ID', 'User_ID', 'Media_ID',\n",
    "                                                                        'Media_Type', 'Misinformation'])\n",
    "\n",
    "df = df[df['Week_Id'].isin([40, 41, 42, 43])]\n",
    "df = df.reset_index(drop=True)\n",
    "\n",
    "set_edges_to_remove = set() #First interaction no edges need to be disregarded\n",
    "df[\"Timestamp\"] = pd.to_datetime(df[\"Timestamp\"], infer_datetime_format=True)\n",
    "\n",
    "df_temp = df.sort_values(by=['Media_ID', 'Timestamp'])\n",
    "df_temp = df_temp[['Media_ID', 'Timestamp']].drop_duplicates(subset=['Media_ID', 'Timestamp'], keep='first')\n",
    "dict_media2_timestamp = dict(zip(df_temp['Media_ID'], df_temp['Timestamp']))\n",
    "\n",
    "df = generate_trace(df)\n",
    "temp = df.groupby(['u','v','time_start','time_end']).size().reset_index()\n",
    "out_data = list()\n",
    "for row in temp.itertuples():\n",
    "    entry = {\"u\": row[1], \"v\": row[2], \"time_start\": row[3], \"time_end\": row[4]}\n",
    "    while entry in out_data:\n",
    "        entry['time_start'] +=1\n",
    "        entry['time_end'] +=1\n",
    "    out_data.append(entry)\n",
    "df = pd.DataFrame(list(out_data))\n",
    "df.sort_values(by='time_start', inplace=True)\n",
    "limiar = min(df['time_start'])-1\n",
    "df['time_start'] = df['time_start'] - limiar\n",
    "df['time_end'] = df['time_end'] - limiar\n",
    "df.to_csv(PATH_RESULT+'October-1.edgelist', sep=' ', index=False, header=False)"
   ]
  },
  {
   "cell_type": "code",
   "execution_count": null,
   "id": "binding-silver",
   "metadata": {},
   "outputs": [],
   "source": [
    "df = pd.read_csv(PATH_RESULT+'October-1.edgelist',\n",
    "                 names=['u','v','time_start','time_end'], sep=' ')"
   ]
  },
  {
   "cell_type": "markdown",
   "id": "considered-saturn",
   "metadata": {},
   "source": [
    "**After running RECAST in java, we need to create the edge list selecting just the two classes explicaned in the paper**"
   ]
  },
  {
   "cell_type": "code",
   "execution_count": 45,
   "id": "negative-foster",
   "metadata": {},
   "outputs": [
    {
     "name": "stdout",
     "output_type": "stream",
     "text": [
      "        u     v   w  u_n   v_n\n",
      "196   304  8586  58  196  3118\n",
      "177   304  1229  58  196   696\n",
      "295   304  6006  55  196  2232\n",
      "299  1229  8602  54  696  3132\n",
      "221   244  2458  51  156  1214\n",
      "..    ...   ...  ..  ...   ...\n",
      "195   304  6673   7  196  2486\n",
      "137   593  1887   7  358  1008\n",
      "51    304   694   7  196   417\n",
      "46    304   499   7  196   313\n",
      "245   947  6854   7  561  2557\n",
      "\n",
      "[309 rows x 5 columns]\n"
     ]
    }
   ],
   "source": [
    "p_value = 0.05\n",
    "df_map = pd.read_csv('RECAST/RECAST/traces/whatsapp/whatsapp-1_nodetable.dat', names=['map', 'id'], sep=' ')\n",
    "dict_map = dict(zip(df_map['id'], df_map['map']))\n",
    "del df_map\n",
    "df = pd.read_csv('RECAST/RECAST/Graphs_Data/whatsapp-1/classified/classifiedwhatsapp-1_class0_threshold'+str(p_value)+'_time28', sep=' ', header=None)\n",
    "df = df[df[9]<=2][[0,1]] ##Classes 1 and 2\n",
    "df[0] = df[0].map(dict_map)\n",
    "df[1] = df[1].map(dict_map)\n",
    "tuple_edge_RECAST = set()\n",
    "for u, v in zip(df[0], df[1]):\n",
    "    if u < v:\n",
    "        tuple_edge_RECAST.add((u,v))\n",
    "    else:\n",
    "        tuple_edge_RECAST.add((v,u))\n",
    "index_recast = pd.MultiIndex.from_tuples(tuple_edge_RECAST, names=[\"u\", \"v\"])\n",
    "edge_list = pd.read_csv('WhatsApp/networks/October.edgelist', header=None, sep=' ', names=['u', 'v', 'w', 'u_n', 'v_n'])\n",
    "edge_list = edge_list.set_index(['u', 'v'])\n",
    "edge_list = edge_list.loc[index_recast].reset_index(drop=False)\n",
    "print(edge_list.sort_values('w', ascending=False))\n",
    "edge_list.to_csv('WhatsApp/backbones/recast/October-'+str(p_value)+'.edgelist', index=False, sep=' ')"
   ]
  }
 ],
 "metadata": {
  "kernelspec": {
   "display_name": "Python 3 (ipykernel)",
   "language": "python",
   "name": "python3"
  },
  "language_info": {
   "codemirror_mode": {
    "name": "ipython",
    "version": 3
   },
   "file_extension": ".py",
   "mimetype": "text/x-python",
   "name": "python",
   "nbconvert_exporter": "python",
   "pygments_lexer": "ipython3",
   "version": "3.7.9"
  }
 },
 "nbformat": 4,
 "nbformat_minor": 5
}
