{
 "cells": [
  {
   "cell_type": "code",
   "execution_count": 7,
   "id": "passing-directive",
   "metadata": {},
   "outputs": [
    {
     "name": "stdout",
     "output_type": "stream",
     "text": [
      "The autoreload extension is already loaded. To reload it, use:\n",
      "  %reload_ext autoreload\n"
     ]
    }
   ],
   "source": [
    "%load_ext autoreload\n",
    "%autoreload 2\n",
    "import instagram_utils as utils\n",
    "from dateutil import rrule\n",
    "from datetime import date, datetime, timedelta\n",
    "import pandas as pd\n",
    "import pickle as pkl\n",
    "import random\n",
    "import matplotlib.pyplot as plt\n",
    "import fastplot\n",
    "import seaborn as sns\n",
    "import scipy\n",
    "import numpy as np\n",
    "import itertools\n",
    "import networkx as nx\n",
    "import pandas as pd\n",
    "from multiprocessing import Pool\n",
    "from tqdm import tqdm\n",
    "from tqdm.notebook import trange, tqdm\n",
    "\n",
    "def compute_edges_pruned(edge):\n",
    "    edge = edge.split(\" \")\n",
    "    i = int(edge[0])\n",
    "    j = int(edge[1])\n",
    "    w = int(edge[2])\n",
    "    null_model\n",
    "    if (w > null_model[j][i] and null_model[j][i] > 0):\n",
    "        return True, (i, j, w)\n",
    "    else:\n",
    "        return False, (i,j, w)\n"
   ]
  },
  {
   "cell_type": "markdown",
   "id": "going-collapse",
   "metadata": {},
   "source": [
    "# Create the networks\n"
   ]
  },
  {
   "cell_type": "code",
   "execution_count": null,
   "id": "ignored-bermuda",
   "metadata": {},
   "outputs": [],
   "source": [
    "import json\n",
    "with open('Instagram-BR/data/instagram_data.json') as fp:\n",
    "    dict_influencer2media2commenter = json.load(fp)\n",
    "    fp.close()"
   ]
  },
  {
   "cell_type": "code",
   "execution_count": null,
   "id": "comparative-ottawa",
   "metadata": {},
   "outputs": [],
   "source": [
    "total_posts = set()\n",
    "total_users = set()\n",
    "for influencer, list_posts in dict_influencer2media2commenter.items(): \n",
    "    for post, list_users in list_posts.items():\n",
    "        total_posts.add(post)\n",
    "        for user in list_users:\n",
    "            total_users.add(user)\n",
    "len(total_posts), len(total_users)"
   ]
  },
  {
   "cell_type": "code",
   "execution_count": null,
   "id": "opposite-portuguese",
   "metadata": {},
   "outputs": [],
   "source": [
    "list(sorted(total_users))[:10]"
   ]
  },
  {
   "cell_type": "code",
   "execution_count": null,
   "id": "passing-clerk",
   "metadata": {},
   "outputs": [],
   "source": [
    "#Creating the networks - Some of methods take as input the projected network \n",
    "\n",
    "PATH_Networks = 'Instagram-BR/networks/'\n",
    "#Id should start by 0 instead of 1\n",
    "node2id = utils.get_node2id(dict_influencer2media2commenter)\n",
    "G = nx.Graph()\n",
    "dict_temp = dict()\n",
    "for influencer, dict_posts2commenters in dict_influencer2media2commenter.items():\n",
    "    print(influencer)\n",
    "    for post, list_commenters in dict_posts2commenters.items():\n",
    "        set_commenters = set()\n",
    "        for commenter in list_commenters:\n",
    "            set_commenters.add(node2id[commenter])\n",
    "        set_commenters = sorted(set_commenters)\n",
    "        for edge in itertools.combinations(set_commenters, 2):\n",
    "            if edge not in dict_temp:\n",
    "                dict_temp[edge] = 1\n",
    "            else:\n",
    "                dict_temp[edge] += 1\n",
    "\n",
    "del dict_influencer2media2commenter\n",
    "del node2id\n",
    "del set_commenters \n",
    "with open(PATH_Networks+'network.edgelist', 'w+') as result_file:\n",
    "    total = len(dict_temp)\n",
    "    percentual = int(0.1*total)\n",
    "    i = 0\n",
    "    for edge, w in dict_temp.items():\n",
    "        i += 1\n",
    "        if (i % percentual == 0):\n",
    "            print(i/total)\n",
    "        result_file.write(str(edge[0]) + ' ' + str(edge[1]) + ' ' + str(w) + '\\n')"
   ]
  },
  {
   "cell_type": "markdown",
   "id": "possible-botswana",
   "metadata": {},
   "source": [
    "# Extracting Backbones\n"
   ]
  },
  {
   "cell_type": "markdown",
   "id": "breeding-reporter",
   "metadata": {},
   "source": [
    "**TriBE Model**"
   ]
  },
  {
   "cell_type": "code",
   "execution_count": null,
   "id": "approximate-resistance",
   "metadata": {},
   "outputs": [],
   "source": [
    "import json\n",
    "with open('Instagram-BR/data/instagram_data.json') as fp:\n",
    "    dict_influencer2media2commenter = json.load(fp)\n",
    "    fp.close()\n",
    "\n",
    "confidence = 0.95\n",
    "PATH_Backbones = 'Instagram-BR/backbones/tribe/'+str(confidence)\n",
    "PATH_Networks = 'Instagram-BR/networks/network.edgelist'\n",
    "m_final = utils.graph_to_backbone_tribe(dict_influencer2media2commenter, confidence, PATH_Backbones)\n",
    "pkl.dump(m_final, open(PATH_Backbones+'-null-model.pkl', \"wb\"), protocol=4)    \n",
    "m_final = pkl.load(open(PATH_Backbones+'-null-model.pkl', \"rb\"))\n",
    "node2id = utils.get_node2id(dict_influencer2media2commenter)\n",
    "with open(PATH_Networks, 'r') as source_file:\n",
    "    with open(PATH_Backbones+'.edgelist', 'w') as result_file:\n",
    "        for edge in source_file:\n",
    "            edge = edge.split(\" \")\n",
    "            i = int(edge[0])\n",
    "            j = int(edge[1])\n",
    "            w = int(edge[2])\n",
    "            if (w > m_final[j][i]):\n",
    "                result_file.write(str(edge[0]) + ' ' + str(edge[1]) + ' ' + str(edge[2]) + '\\n')                    \n",
    "del m_final"
   ]
  },
  {
   "cell_type": "markdown",
   "id": "center-channel",
   "metadata": {},
   "source": [
    "**Noise Corrected**"
   ]
  },
  {
   "cell_type": "code",
   "execution_count": 2,
   "id": "developmental-directive",
   "metadata": {},
   "outputs": [
    {
     "name": "stderr",
     "output_type": "stream",
     "text": [
      "Calculating NC score...\n"
     ]
    }
   ],
   "source": [
    "PATH_Networks = 'Instagram-BR/networks/network.edgelist'\n",
    "PATH_Backbones = 'Instagram-BR/backbones/nc/all_p_values'\n",
    "\n",
    "# Please use and cite the code available for Michele Coscia in:\n",
    "# Coscia, Michele, and Frank MH Neffke. \"Network backboning with noisy data.\" \n",
    "# 2017 IEEE 33rd International Conference on Data Engineering (ICDE). IEEE, 2017.\n",
    "# Download link: https://www.michelecoscia.com/?page_id=287\n"
   ]
  },
  {
   "cell_type": "markdown",
   "id": "binary-century",
   "metadata": {},
   "source": [
    "**MLF**"
   ]
  },
  {
   "cell_type": "code",
   "execution_count": null,
   "id": "serious-spell",
   "metadata": {},
   "outputs": [],
   "source": [
    "import igraph as ig\n",
    "PATH_Networks = 'Instagram-BR/networks/network.edgelist'\n",
    "PATH_Backbones = 'Instagram-BR/backbones/mlf/all_p_values'\n",
    "\n",
    "# Please use and cite the code of:\n",
    "# Dianati, Navid. \"Unwinding the hairball graph: \n",
    "#.                 Pruning algorithms for weighted complex networks.\" \n",
    "#                  Physical Review E 93.1 (2016): 012304.\n",
    "# The code must be requested from the authors."
   ]
  },
  {
   "cell_type": "markdown",
   "id": "aggressive-interaction",
   "metadata": {},
   "source": [
    "**GloSS Filter**"
   ]
  },
  {
   "cell_type": "code",
   "execution_count": null,
   "id": "material-strengthening",
   "metadata": {
    "scrolled": true
   },
   "outputs": [],
   "source": [
    "import subprocess\n",
    "import shlex\n",
    "import os.path\n",
    "import sys\n",
    "import pandas as pd\n",
    "from os import getcwd\n",
    "import os\n",
    "PATH_Networks = 'Instagram-BR/networks/network.edgelist'\n",
    "PATH_Backbones = 'Instagram-BR/backbones/gloss/'\n",
    "\n",
    "# Need to run in C\n",
    "\n",
    "# Please use and cite the code of:\n",
    "# Radicchi, Filippo, José J. Ramasco, and Santo Fortunato. \n",
    "# \"Information filtering in complex weighted networks.\" \n",
    "# Physical Review E 83.4 (2011): 046101.\n",
    "# The code can be downloader here: \n",
    "# https://cgi.luddy.indiana.edu/~filiradi/resources.html."
   ]
  },
  {
   "cell_type": "markdown",
   "id": "studied-piano",
   "metadata": {},
   "source": [
    "**SDSM**"
   ]
  },
  {
   "cell_type": "code",
   "execution_count": null,
   "id": "encouraging-mouth",
   "metadata": {},
   "outputs": [],
   "source": [
    "##Needs to be run in R \n",
    "\n",
    "##Here we just fix the node ID to start with 0 instead of 1 like in R \n",
    "# and recovery the weight of the backbone\n",
    "\n",
    "PATH_Backbones = 'Instagram-BR/backbones/mlf/all_p_values'\n",
    "list_alphas = ['0.005']\n",
    "\n",
    "for alpha in list_alphas:\n",
    "    print(alpha)\n",
    "    df_backbone = pd.read_csv(\"Instagram-BR//backbones/sdsm/backbone_edgelist_\"+alpha+\".csv\", names=['u', 'v'], sep=' ')\n",
    "    df_backbone\n",
    "    df_backbone['u'] = df_backbone['u']-1\n",
    "    df_backbone['v'] = df_backbone['v']-1\n",
    "    df_backbone.to_csv(\"Instagram-BR/backbones/sdsm/backbone_edgelist_\"+alpha+\".csv\", sep=' ',\n",
    "                      index=False, header=False)\n",
    "    \n",
    "    \n",
    "# Please use and cite the code of:\n",
    "# Neal, Z. P. (2022). backbone: An R package to extract network backbones.\n",
    "# PLoS ONE 17, e0269137. https://doi.org/10.1371/journal.pone.0269137\n",
    "# The code can be downloader here: \n",
    "# https://cran.r-project.org/web/packages/backbone/index.html"
   ]
  }
 ],
 "metadata": {
  "kernelspec": {
   "display_name": "Python 3",
   "language": "python",
   "name": "python3"
  },
  "language_info": {
   "codemirror_mode": {
    "name": "ipython",
    "version": 3
   },
   "file_extension": ".py",
   "mimetype": "text/x-python",
   "name": "python",
   "nbconvert_exporter": "python",
   "pygments_lexer": "ipython3",
   "version": "3.7.9"
  }
 },
 "nbformat": 4,
 "nbformat_minor": 5
}
